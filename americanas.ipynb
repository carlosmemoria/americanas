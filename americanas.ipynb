{
  "nbformat": 4,
  "nbformat_minor": 0,
  "metadata": {
    "colab": {
      "name": "americanas.ipynb",
      "provenance": [],
      "collapsed_sections": [],
      "authorship_tag": "ABX9TyM0LOyyzVTbGwbVCO/gaQzk",
      "include_colab_link": true
    },
    "kernelspec": {
      "name": "python3",
      "display_name": "Python 3"
    },
    "language_info": {
      "name": "python"
    }
  },
  "cells": [
    {
      "cell_type": "markdown",
      "metadata": {
        "id": "view-in-github",
        "colab_type": "text"
      },
      "source": [
        "<a href=\"https://colab.research.google.com/github/carlosmemoria/americanas/blob/main/americanas.ipynb\" target=\"_parent\"><img src=\"https://colab.research.google.com/assets/colab-badge.svg\" alt=\"Open In Colab\"/></a>"
      ]
    },
    {
      "cell_type": "markdown",
      "source": [
        "# Desafio Americanas"
      ],
      "metadata": {
        "id": "pdqOcc2AYpXl"
      }
    },
    {
      "cell_type": "markdown",
      "source": [
        "\n",
        "#### Importação de bibliotecas"
      ],
      "metadata": {
        "id": "vXtqc93bZP8t"
      }
    },
    {
      "cell_type": "code",
      "source": [
        "import pandas as pd\n",
        "#import numpy as np\n",
        "import matplotlib.pyplot as plt\n",
        "#port scipy as scp\n",
        "#import warnings\n",
        "from sklearn.model_selection import train_test_split\n",
        "#warnings.filterwarnings(\"ignore\")"
      ],
      "metadata": {
        "id": "pR7gA0DJYlFE"
      },
      "execution_count": 180,
      "outputs": []
    },
    {
      "cell_type": "markdown",
      "source": [
        "#### Ultilizando a biblioteca pandas para importação dos dados\n",
        "\n"
      ],
      "metadata": {
        "id": "GYjnhNmdY_2t"
      }
    },
    {
      "cell_type": "code",
      "source": [
        "df = pd.read_parquet('https://drive.google.com/u/0/uc?id=1HXq9mczY-5OpFaXK3kk8zAgFEgEgF3jt&export=download')"
      ],
      "metadata": {
        "id": "nd1d7So_aRqx"
      },
      "execution_count": 181,
      "outputs": []
    },
    {
      "cell_type": "markdown",
      "source": [
        "#### Verificando dados iniciais do dataset importado"
      ],
      "metadata": {
        "id": "Xv0beIgrZUkd"
      }
    },
    {
      "cell_type": "code",
      "source": [
        "df.head()"
      ],
      "metadata": {
        "id": "Jjxl7NBzaVjr",
        "colab": {
          "base_uri": "https://localhost:8080/",
          "height": 206
        },
        "outputId": "1038d646-7bef-4b3c-c9cf-29ceb5b20c30"
      },
      "execution_count": 182,
      "outputs": [
        {
          "output_type": "execute_result",
          "data": {
            "text/plain": [
              "     feature0  feature1  feature2  feature3  feature4  feature5  feature6  \\\n",
              "337     200.0         2    662.28     39.10   -188.55  0.246978       761   \n",
              "266     150.0         2      0.00    149.55     -0.45  0.150000         3   \n",
              "236      50.0         1    346.08     30.41   -102.10  2.430952        42   \n",
              "274     100.0         2      0.00     43.84    -56.16  0.150968       372   \n",
              "208      50.0         1     87.56     -3.05    -94.50  0.412664       229   \n",
              "\n",
              "     feature7  feature8  feature9  feature10  feature11  feature12  feature13  \\\n",
              "337  0.004548  3.523703    167326   33441.06   0.019804     26.850   0.009198   \n",
              "266  0.037975  0.000000        79      78.93   0.000000      0.000   0.000000   \n",
              "236  0.004239  3.389618      9907   18858.77   0.018351     25.525   0.095238   \n",
              "274  0.005854  0.000000     63544    1164.11   0.000000      0.000   0.000000   \n",
              "208  0.004572  0.926561     50089    1786.26   0.049019     94.500   0.004367   \n",
              "\n",
              "     feature14  feature15  target  \n",
              "337  94.611429          7       0  \n",
              "266   0.000000          0       1  \n",
              "236  86.520000          4       0  \n",
              "274   0.000000          0       1  \n",
              "208  87.560000          1       0  "
            ],
            "text/html": [
              "\n",
              "  <div id=\"df-91931538-a874-442f-8401-4e212bd23cc6\">\n",
              "    <div class=\"colab-df-container\">\n",
              "      <div>\n",
              "<style scoped>\n",
              "    .dataframe tbody tr th:only-of-type {\n",
              "        vertical-align: middle;\n",
              "    }\n",
              "\n",
              "    .dataframe tbody tr th {\n",
              "        vertical-align: top;\n",
              "    }\n",
              "\n",
              "    .dataframe thead th {\n",
              "        text-align: right;\n",
              "    }\n",
              "</style>\n",
              "<table border=\"1\" class=\"dataframe\">\n",
              "  <thead>\n",
              "    <tr style=\"text-align: right;\">\n",
              "      <th></th>\n",
              "      <th>feature0</th>\n",
              "      <th>feature1</th>\n",
              "      <th>feature2</th>\n",
              "      <th>feature3</th>\n",
              "      <th>feature4</th>\n",
              "      <th>feature5</th>\n",
              "      <th>feature6</th>\n",
              "      <th>feature7</th>\n",
              "      <th>feature8</th>\n",
              "      <th>feature9</th>\n",
              "      <th>feature10</th>\n",
              "      <th>feature11</th>\n",
              "      <th>feature12</th>\n",
              "      <th>feature13</th>\n",
              "      <th>feature14</th>\n",
              "      <th>feature15</th>\n",
              "      <th>target</th>\n",
              "    </tr>\n",
              "  </thead>\n",
              "  <tbody>\n",
              "    <tr>\n",
              "      <th>337</th>\n",
              "      <td>200.0</td>\n",
              "      <td>2</td>\n",
              "      <td>662.28</td>\n",
              "      <td>39.10</td>\n",
              "      <td>-188.55</td>\n",
              "      <td>0.246978</td>\n",
              "      <td>761</td>\n",
              "      <td>0.004548</td>\n",
              "      <td>3.523703</td>\n",
              "      <td>167326</td>\n",
              "      <td>33441.06</td>\n",
              "      <td>0.019804</td>\n",
              "      <td>26.850</td>\n",
              "      <td>0.009198</td>\n",
              "      <td>94.611429</td>\n",
              "      <td>7</td>\n",
              "      <td>0</td>\n",
              "    </tr>\n",
              "    <tr>\n",
              "      <th>266</th>\n",
              "      <td>150.0</td>\n",
              "      <td>2</td>\n",
              "      <td>0.00</td>\n",
              "      <td>149.55</td>\n",
              "      <td>-0.45</td>\n",
              "      <td>0.150000</td>\n",
              "      <td>3</td>\n",
              "      <td>0.037975</td>\n",
              "      <td>0.000000</td>\n",
              "      <td>79</td>\n",
              "      <td>78.93</td>\n",
              "      <td>0.000000</td>\n",
              "      <td>0.000</td>\n",
              "      <td>0.000000</td>\n",
              "      <td>0.000000</td>\n",
              "      <td>0</td>\n",
              "      <td>1</td>\n",
              "    </tr>\n",
              "    <tr>\n",
              "      <th>236</th>\n",
              "      <td>50.0</td>\n",
              "      <td>1</td>\n",
              "      <td>346.08</td>\n",
              "      <td>30.41</td>\n",
              "      <td>-102.10</td>\n",
              "      <td>2.430952</td>\n",
              "      <td>42</td>\n",
              "      <td>0.004239</td>\n",
              "      <td>3.389618</td>\n",
              "      <td>9907</td>\n",
              "      <td>18858.77</td>\n",
              "      <td>0.018351</td>\n",
              "      <td>25.525</td>\n",
              "      <td>0.095238</td>\n",
              "      <td>86.520000</td>\n",
              "      <td>4</td>\n",
              "      <td>0</td>\n",
              "    </tr>\n",
              "    <tr>\n",
              "      <th>274</th>\n",
              "      <td>100.0</td>\n",
              "      <td>2</td>\n",
              "      <td>0.00</td>\n",
              "      <td>43.84</td>\n",
              "      <td>-56.16</td>\n",
              "      <td>0.150968</td>\n",
              "      <td>372</td>\n",
              "      <td>0.005854</td>\n",
              "      <td>0.000000</td>\n",
              "      <td>63544</td>\n",
              "      <td>1164.11</td>\n",
              "      <td>0.000000</td>\n",
              "      <td>0.000</td>\n",
              "      <td>0.000000</td>\n",
              "      <td>0.000000</td>\n",
              "      <td>0</td>\n",
              "      <td>1</td>\n",
              "    </tr>\n",
              "    <tr>\n",
              "      <th>208</th>\n",
              "      <td>50.0</td>\n",
              "      <td>1</td>\n",
              "      <td>87.56</td>\n",
              "      <td>-3.05</td>\n",
              "      <td>-94.50</td>\n",
              "      <td>0.412664</td>\n",
              "      <td>229</td>\n",
              "      <td>0.004572</td>\n",
              "      <td>0.926561</td>\n",
              "      <td>50089</td>\n",
              "      <td>1786.26</td>\n",
              "      <td>0.049019</td>\n",
              "      <td>94.500</td>\n",
              "      <td>0.004367</td>\n",
              "      <td>87.560000</td>\n",
              "      <td>1</td>\n",
              "      <td>0</td>\n",
              "    </tr>\n",
              "  </tbody>\n",
              "</table>\n",
              "</div>\n",
              "      <button class=\"colab-df-convert\" onclick=\"convertToInteractive('df-91931538-a874-442f-8401-4e212bd23cc6')\"\n",
              "              title=\"Convert this dataframe to an interactive table.\"\n",
              "              style=\"display:none;\">\n",
              "        \n",
              "  <svg xmlns=\"http://www.w3.org/2000/svg\" height=\"24px\"viewBox=\"0 0 24 24\"\n",
              "       width=\"24px\">\n",
              "    <path d=\"M0 0h24v24H0V0z\" fill=\"none\"/>\n",
              "    <path d=\"M18.56 5.44l.94 2.06.94-2.06 2.06-.94-2.06-.94-.94-2.06-.94 2.06-2.06.94zm-11 1L8.5 8.5l.94-2.06 2.06-.94-2.06-.94L8.5 2.5l-.94 2.06-2.06.94zm10 10l.94 2.06.94-2.06 2.06-.94-2.06-.94-.94-2.06-.94 2.06-2.06.94z\"/><path d=\"M17.41 7.96l-1.37-1.37c-.4-.4-.92-.59-1.43-.59-.52 0-1.04.2-1.43.59L10.3 9.45l-7.72 7.72c-.78.78-.78 2.05 0 2.83L4 21.41c.39.39.9.59 1.41.59.51 0 1.02-.2 1.41-.59l7.78-7.78 2.81-2.81c.8-.78.8-2.07 0-2.86zM5.41 20L4 18.59l7.72-7.72 1.47 1.35L5.41 20z\"/>\n",
              "  </svg>\n",
              "      </button>\n",
              "      \n",
              "  <style>\n",
              "    .colab-df-container {\n",
              "      display:flex;\n",
              "      flex-wrap:wrap;\n",
              "      gap: 12px;\n",
              "    }\n",
              "\n",
              "    .colab-df-convert {\n",
              "      background-color: #E8F0FE;\n",
              "      border: none;\n",
              "      border-radius: 50%;\n",
              "      cursor: pointer;\n",
              "      display: none;\n",
              "      fill: #1967D2;\n",
              "      height: 32px;\n",
              "      padding: 0 0 0 0;\n",
              "      width: 32px;\n",
              "    }\n",
              "\n",
              "    .colab-df-convert:hover {\n",
              "      background-color: #E2EBFA;\n",
              "      box-shadow: 0px 1px 2px rgba(60, 64, 67, 0.3), 0px 1px 3px 1px rgba(60, 64, 67, 0.15);\n",
              "      fill: #174EA6;\n",
              "    }\n",
              "\n",
              "    [theme=dark] .colab-df-convert {\n",
              "      background-color: #3B4455;\n",
              "      fill: #D2E3FC;\n",
              "    }\n",
              "\n",
              "    [theme=dark] .colab-df-convert:hover {\n",
              "      background-color: #434B5C;\n",
              "      box-shadow: 0px 1px 3px 1px rgba(0, 0, 0, 0.15);\n",
              "      filter: drop-shadow(0px 1px 2px rgba(0, 0, 0, 0.3));\n",
              "      fill: #FFFFFF;\n",
              "    }\n",
              "  </style>\n",
              "\n",
              "      <script>\n",
              "        const buttonEl =\n",
              "          document.querySelector('#df-91931538-a874-442f-8401-4e212bd23cc6 button.colab-df-convert');\n",
              "        buttonEl.style.display =\n",
              "          google.colab.kernel.accessAllowed ? 'block' : 'none';\n",
              "\n",
              "        async function convertToInteractive(key) {\n",
              "          const element = document.querySelector('#df-91931538-a874-442f-8401-4e212bd23cc6');\n",
              "          const dataTable =\n",
              "            await google.colab.kernel.invokeFunction('convertToInteractive',\n",
              "                                                     [key], {});\n",
              "          if (!dataTable) return;\n",
              "\n",
              "          const docLinkHtml = 'Like what you see? Visit the ' +\n",
              "            '<a target=\"_blank\" href=https://colab.research.google.com/notebooks/data_table.ipynb>data table notebook</a>'\n",
              "            + ' to learn more about interactive tables.';\n",
              "          element.innerHTML = '';\n",
              "          dataTable['output_type'] = 'display_data';\n",
              "          await google.colab.output.renderOutput(dataTable, element);\n",
              "          const docLink = document.createElement('div');\n",
              "          docLink.innerHTML = docLinkHtml;\n",
              "          element.appendChild(docLink);\n",
              "        }\n",
              "      </script>\n",
              "    </div>\n",
              "  </div>\n",
              "  "
            ]
          },
          "metadata": {},
          "execution_count": 182
        }
      ]
    },
    {
      "cell_type": "markdown",
      "source": [
        "#### Entendendo o dataset, colunas, data types, quantidade de registros por coluna"
      ],
      "metadata": {
        "id": "3krQdDhMZj6H"
      }
    },
    {
      "cell_type": "code",
      "source": [
        "df.info()"
      ],
      "metadata": {
        "colab": {
          "base_uri": "https://localhost:8080/"
        },
        "id": "_-l5DTLeZhh9",
        "outputId": "9ee35686-d416-434d-b9d5-24e8858062e5"
      },
      "execution_count": 183,
      "outputs": [
        {
          "output_type": "stream",
          "name": "stdout",
          "text": [
            "<class 'pandas.core.frame.DataFrame'>\n",
            "Int64Index: 466 entries, 337 to 92\n",
            "Data columns (total 17 columns):\n",
            " #   Column     Non-Null Count  Dtype  \n",
            "---  ------     --------------  -----  \n",
            " 0   feature0   466 non-null    float64\n",
            " 1   feature1   466 non-null    int64  \n",
            " 2   feature2   466 non-null    float64\n",
            " 3   feature3   466 non-null    float64\n",
            " 4   feature4   466 non-null    float64\n",
            " 5   feature5   466 non-null    float64\n",
            " 6   feature6   466 non-null    int64  \n",
            " 7   feature7   466 non-null    float64\n",
            " 8   feature8   466 non-null    float64\n",
            " 9   feature9   466 non-null    int64  \n",
            " 10  feature10  466 non-null    float64\n",
            " 11  feature11  466 non-null    float64\n",
            " 12  feature12  466 non-null    float64\n",
            " 13  feature13  466 non-null    float64\n",
            " 14  feature14  466 non-null    float64\n",
            " 15  feature15  466 non-null    int64  \n",
            " 16  target     466 non-null    int64  \n",
            "dtypes: float64(12), int64(5)\n",
            "memory usage: 65.5 KB\n"
          ]
        }
      ]
    },
    {
      "cell_type": "markdown",
      "source": [
        "#### Verificando detalhes estatísticos do dataset"
      ],
      "metadata": {
        "id": "NFaveEUWZpho"
      }
    },
    {
      "cell_type": "code",
      "source": [
        "df.describe()"
      ],
      "metadata": {
        "id": "LEw5_oqfaWDi",
        "colab": {
          "base_uri": "https://localhost:8080/",
          "height": 300
        },
        "outputId": "16c8c173-cd7b-4bb6-c64a-e626226c08c5"
      },
      "execution_count": 184,
      "outputs": [
        {
          "output_type": "execute_result",
          "data": {
            "text/plain": [
              "           feature0    feature1      feature2     feature3      feature4  \\\n",
              "count    466.000000  466.000000    466.000000   466.000000    466.000000   \n",
              "mean     438.743562    4.847639   1244.322468    44.600880   -434.299893   \n",
              "std      984.593065    6.836679   3558.699033   122.093515    975.555198   \n",
              "min        0.000000    0.000000      0.000000  -645.870000 -15506.350000   \n",
              "25%       50.000000    1.000000      0.000000    -0.400000   -492.035000   \n",
              "50%      150.000000    2.000000    169.830000    18.360000   -154.525000   \n",
              "75%      500.000000    6.000000   1017.375000    44.630000    -50.180000   \n",
              "max    15400.000000   31.000000  40291.240000  1521.900000     -0.260000   \n",
              "\n",
              "         feature5      feature6    feature7    feature8      feature9  \\\n",
              "count  466.000000    466.000000  466.000000  466.000000  4.660000e+02   \n",
              "mean     0.473991    979.070815    0.113885    3.857010  2.164378e+05   \n",
              "std      0.452261   1460.738442    1.873746   15.609132  3.508622e+05   \n",
              "min      0.150000      1.000000    0.000663    0.000000  1.000000e+00   \n",
              "25%      0.173669    133.500000    0.003318    0.000000  2.113100e+04   \n",
              "50%      0.303854    420.000000    0.005127    0.937082  8.532850e+04   \n",
              "75%      0.569848   1238.750000    0.009699    2.815824  2.645035e+05   \n",
              "max      3.150000  11731.000000   40.000000  281.666667  3.366472e+06   \n",
              "\n",
              "           feature10   feature11    feature12   feature13    feature14  \\\n",
              "count     466.000000  466.000000   466.000000  466.000000   466.000000   \n",
              "mean     6930.456438    0.437333    61.886190    0.008634    87.713360   \n",
              "std     17581.800818    3.442094   142.521523    0.017866   145.426437   \n",
              "min         0.000000    0.000000     0.000000    0.000000     0.000000   \n",
              "25%       383.687500    0.000000     0.000000    0.000000     0.000000   \n",
              "50%      1410.855000    0.082515    19.692568    0.003207    72.524286   \n",
              "75%      5212.977500    0.311311    65.498098    0.009515   127.301505   \n",
              "max    237182.780000   73.080634  2232.100000    0.204611  2154.000000   \n",
              "\n",
              "        feature15      target  \n",
              "count  466.000000  466.000000  \n",
              "mean    10.313305    0.557940  \n",
              "std     33.625204    0.497165  \n",
              "min      0.000000    0.000000  \n",
              "25%      0.000000    0.000000  \n",
              "50%      2.000000    1.000000  \n",
              "75%      8.000000    1.000000  \n",
              "max    541.000000    1.000000  "
            ],
            "text/html": [
              "\n",
              "  <div id=\"df-3fbf50a9-409c-46da-96da-61d0b8801a80\">\n",
              "    <div class=\"colab-df-container\">\n",
              "      <div>\n",
              "<style scoped>\n",
              "    .dataframe tbody tr th:only-of-type {\n",
              "        vertical-align: middle;\n",
              "    }\n",
              "\n",
              "    .dataframe tbody tr th {\n",
              "        vertical-align: top;\n",
              "    }\n",
              "\n",
              "    .dataframe thead th {\n",
              "        text-align: right;\n",
              "    }\n",
              "</style>\n",
              "<table border=\"1\" class=\"dataframe\">\n",
              "  <thead>\n",
              "    <tr style=\"text-align: right;\">\n",
              "      <th></th>\n",
              "      <th>feature0</th>\n",
              "      <th>feature1</th>\n",
              "      <th>feature2</th>\n",
              "      <th>feature3</th>\n",
              "      <th>feature4</th>\n",
              "      <th>feature5</th>\n",
              "      <th>feature6</th>\n",
              "      <th>feature7</th>\n",
              "      <th>feature8</th>\n",
              "      <th>feature9</th>\n",
              "      <th>feature10</th>\n",
              "      <th>feature11</th>\n",
              "      <th>feature12</th>\n",
              "      <th>feature13</th>\n",
              "      <th>feature14</th>\n",
              "      <th>feature15</th>\n",
              "      <th>target</th>\n",
              "    </tr>\n",
              "  </thead>\n",
              "  <tbody>\n",
              "    <tr>\n",
              "      <th>count</th>\n",
              "      <td>466.000000</td>\n",
              "      <td>466.000000</td>\n",
              "      <td>466.000000</td>\n",
              "      <td>466.000000</td>\n",
              "      <td>466.000000</td>\n",
              "      <td>466.000000</td>\n",
              "      <td>466.000000</td>\n",
              "      <td>466.000000</td>\n",
              "      <td>466.000000</td>\n",
              "      <td>4.660000e+02</td>\n",
              "      <td>466.000000</td>\n",
              "      <td>466.000000</td>\n",
              "      <td>466.000000</td>\n",
              "      <td>466.000000</td>\n",
              "      <td>466.000000</td>\n",
              "      <td>466.000000</td>\n",
              "      <td>466.000000</td>\n",
              "    </tr>\n",
              "    <tr>\n",
              "      <th>mean</th>\n",
              "      <td>438.743562</td>\n",
              "      <td>4.847639</td>\n",
              "      <td>1244.322468</td>\n",
              "      <td>44.600880</td>\n",
              "      <td>-434.299893</td>\n",
              "      <td>0.473991</td>\n",
              "      <td>979.070815</td>\n",
              "      <td>0.113885</td>\n",
              "      <td>3.857010</td>\n",
              "      <td>2.164378e+05</td>\n",
              "      <td>6930.456438</td>\n",
              "      <td>0.437333</td>\n",
              "      <td>61.886190</td>\n",
              "      <td>0.008634</td>\n",
              "      <td>87.713360</td>\n",
              "      <td>10.313305</td>\n",
              "      <td>0.557940</td>\n",
              "    </tr>\n",
              "    <tr>\n",
              "      <th>std</th>\n",
              "      <td>984.593065</td>\n",
              "      <td>6.836679</td>\n",
              "      <td>3558.699033</td>\n",
              "      <td>122.093515</td>\n",
              "      <td>975.555198</td>\n",
              "      <td>0.452261</td>\n",
              "      <td>1460.738442</td>\n",
              "      <td>1.873746</td>\n",
              "      <td>15.609132</td>\n",
              "      <td>3.508622e+05</td>\n",
              "      <td>17581.800818</td>\n",
              "      <td>3.442094</td>\n",
              "      <td>142.521523</td>\n",
              "      <td>0.017866</td>\n",
              "      <td>145.426437</td>\n",
              "      <td>33.625204</td>\n",
              "      <td>0.497165</td>\n",
              "    </tr>\n",
              "    <tr>\n",
              "      <th>min</th>\n",
              "      <td>0.000000</td>\n",
              "      <td>0.000000</td>\n",
              "      <td>0.000000</td>\n",
              "      <td>-645.870000</td>\n",
              "      <td>-15506.350000</td>\n",
              "      <td>0.150000</td>\n",
              "      <td>1.000000</td>\n",
              "      <td>0.000663</td>\n",
              "      <td>0.000000</td>\n",
              "      <td>1.000000e+00</td>\n",
              "      <td>0.000000</td>\n",
              "      <td>0.000000</td>\n",
              "      <td>0.000000</td>\n",
              "      <td>0.000000</td>\n",
              "      <td>0.000000</td>\n",
              "      <td>0.000000</td>\n",
              "      <td>0.000000</td>\n",
              "    </tr>\n",
              "    <tr>\n",
              "      <th>25%</th>\n",
              "      <td>50.000000</td>\n",
              "      <td>1.000000</td>\n",
              "      <td>0.000000</td>\n",
              "      <td>-0.400000</td>\n",
              "      <td>-492.035000</td>\n",
              "      <td>0.173669</td>\n",
              "      <td>133.500000</td>\n",
              "      <td>0.003318</td>\n",
              "      <td>0.000000</td>\n",
              "      <td>2.113100e+04</td>\n",
              "      <td>383.687500</td>\n",
              "      <td>0.000000</td>\n",
              "      <td>0.000000</td>\n",
              "      <td>0.000000</td>\n",
              "      <td>0.000000</td>\n",
              "      <td>0.000000</td>\n",
              "      <td>0.000000</td>\n",
              "    </tr>\n",
              "    <tr>\n",
              "      <th>50%</th>\n",
              "      <td>150.000000</td>\n",
              "      <td>2.000000</td>\n",
              "      <td>169.830000</td>\n",
              "      <td>18.360000</td>\n",
              "      <td>-154.525000</td>\n",
              "      <td>0.303854</td>\n",
              "      <td>420.000000</td>\n",
              "      <td>0.005127</td>\n",
              "      <td>0.937082</td>\n",
              "      <td>8.532850e+04</td>\n",
              "      <td>1410.855000</td>\n",
              "      <td>0.082515</td>\n",
              "      <td>19.692568</td>\n",
              "      <td>0.003207</td>\n",
              "      <td>72.524286</td>\n",
              "      <td>2.000000</td>\n",
              "      <td>1.000000</td>\n",
              "    </tr>\n",
              "    <tr>\n",
              "      <th>75%</th>\n",
              "      <td>500.000000</td>\n",
              "      <td>6.000000</td>\n",
              "      <td>1017.375000</td>\n",
              "      <td>44.630000</td>\n",
              "      <td>-50.180000</td>\n",
              "      <td>0.569848</td>\n",
              "      <td>1238.750000</td>\n",
              "      <td>0.009699</td>\n",
              "      <td>2.815824</td>\n",
              "      <td>2.645035e+05</td>\n",
              "      <td>5212.977500</td>\n",
              "      <td>0.311311</td>\n",
              "      <td>65.498098</td>\n",
              "      <td>0.009515</td>\n",
              "      <td>127.301505</td>\n",
              "      <td>8.000000</td>\n",
              "      <td>1.000000</td>\n",
              "    </tr>\n",
              "    <tr>\n",
              "      <th>max</th>\n",
              "      <td>15400.000000</td>\n",
              "      <td>31.000000</td>\n",
              "      <td>40291.240000</td>\n",
              "      <td>1521.900000</td>\n",
              "      <td>-0.260000</td>\n",
              "      <td>3.150000</td>\n",
              "      <td>11731.000000</td>\n",
              "      <td>40.000000</td>\n",
              "      <td>281.666667</td>\n",
              "      <td>3.366472e+06</td>\n",
              "      <td>237182.780000</td>\n",
              "      <td>73.080634</td>\n",
              "      <td>2232.100000</td>\n",
              "      <td>0.204611</td>\n",
              "      <td>2154.000000</td>\n",
              "      <td>541.000000</td>\n",
              "      <td>1.000000</td>\n",
              "    </tr>\n",
              "  </tbody>\n",
              "</table>\n",
              "</div>\n",
              "      <button class=\"colab-df-convert\" onclick=\"convertToInteractive('df-3fbf50a9-409c-46da-96da-61d0b8801a80')\"\n",
              "              title=\"Convert this dataframe to an interactive table.\"\n",
              "              style=\"display:none;\">\n",
              "        \n",
              "  <svg xmlns=\"http://www.w3.org/2000/svg\" height=\"24px\"viewBox=\"0 0 24 24\"\n",
              "       width=\"24px\">\n",
              "    <path d=\"M0 0h24v24H0V0z\" fill=\"none\"/>\n",
              "    <path d=\"M18.56 5.44l.94 2.06.94-2.06 2.06-.94-2.06-.94-.94-2.06-.94 2.06-2.06.94zm-11 1L8.5 8.5l.94-2.06 2.06-.94-2.06-.94L8.5 2.5l-.94 2.06-2.06.94zm10 10l.94 2.06.94-2.06 2.06-.94-2.06-.94-.94-2.06-.94 2.06-2.06.94z\"/><path d=\"M17.41 7.96l-1.37-1.37c-.4-.4-.92-.59-1.43-.59-.52 0-1.04.2-1.43.59L10.3 9.45l-7.72 7.72c-.78.78-.78 2.05 0 2.83L4 21.41c.39.39.9.59 1.41.59.51 0 1.02-.2 1.41-.59l7.78-7.78 2.81-2.81c.8-.78.8-2.07 0-2.86zM5.41 20L4 18.59l7.72-7.72 1.47 1.35L5.41 20z\"/>\n",
              "  </svg>\n",
              "      </button>\n",
              "      \n",
              "  <style>\n",
              "    .colab-df-container {\n",
              "      display:flex;\n",
              "      flex-wrap:wrap;\n",
              "      gap: 12px;\n",
              "    }\n",
              "\n",
              "    .colab-df-convert {\n",
              "      background-color: #E8F0FE;\n",
              "      border: none;\n",
              "      border-radius: 50%;\n",
              "      cursor: pointer;\n",
              "      display: none;\n",
              "      fill: #1967D2;\n",
              "      height: 32px;\n",
              "      padding: 0 0 0 0;\n",
              "      width: 32px;\n",
              "    }\n",
              "\n",
              "    .colab-df-convert:hover {\n",
              "      background-color: #E2EBFA;\n",
              "      box-shadow: 0px 1px 2px rgba(60, 64, 67, 0.3), 0px 1px 3px 1px rgba(60, 64, 67, 0.15);\n",
              "      fill: #174EA6;\n",
              "    }\n",
              "\n",
              "    [theme=dark] .colab-df-convert {\n",
              "      background-color: #3B4455;\n",
              "      fill: #D2E3FC;\n",
              "    }\n",
              "\n",
              "    [theme=dark] .colab-df-convert:hover {\n",
              "      background-color: #434B5C;\n",
              "      box-shadow: 0px 1px 3px 1px rgba(0, 0, 0, 0.15);\n",
              "      filter: drop-shadow(0px 1px 2px rgba(0, 0, 0, 0.3));\n",
              "      fill: #FFFFFF;\n",
              "    }\n",
              "  </style>\n",
              "\n",
              "      <script>\n",
              "        const buttonEl =\n",
              "          document.querySelector('#df-3fbf50a9-409c-46da-96da-61d0b8801a80 button.colab-df-convert');\n",
              "        buttonEl.style.display =\n",
              "          google.colab.kernel.accessAllowed ? 'block' : 'none';\n",
              "\n",
              "        async function convertToInteractive(key) {\n",
              "          const element = document.querySelector('#df-3fbf50a9-409c-46da-96da-61d0b8801a80');\n",
              "          const dataTable =\n",
              "            await google.colab.kernel.invokeFunction('convertToInteractive',\n",
              "                                                     [key], {});\n",
              "          if (!dataTable) return;\n",
              "\n",
              "          const docLinkHtml = 'Like what you see? Visit the ' +\n",
              "            '<a target=\"_blank\" href=https://colab.research.google.com/notebooks/data_table.ipynb>data table notebook</a>'\n",
              "            + ' to learn more about interactive tables.';\n",
              "          element.innerHTML = '';\n",
              "          dataTable['output_type'] = 'display_data';\n",
              "          await google.colab.output.renderOutput(dataTable, element);\n",
              "          const docLink = document.createElement('div');\n",
              "          docLink.innerHTML = docLinkHtml;\n",
              "          element.appendChild(docLink);\n",
              "        }\n",
              "      </script>\n",
              "    </div>\n",
              "  </div>\n",
              "  "
            ]
          },
          "metadata": {},
          "execution_count": 184
        }
      ]
    },
    {
      "cell_type": "markdown",
      "source": [
        "#### Gerando um gráfico de pizza e de barras com todas as entradas do dataset"
      ],
      "metadata": {
        "id": "avnH_TSbaVIV"
      }
    },
    {
      "cell_type": "code",
      "source": [
        "#Distribuição dos dados da classe Y (Não existe ocorrência = n, Existe ocorrência = e)\n",
        "\n",
        "n = pd.value_counts(df['target']) [0]\n",
        "e = pd.value_counts(df['target']) [1]\n",
        "\n",
        "condTrue = 'Não há ocorrência do evento que desejamos prever em '\n",
        "condFalse = 'Existe ocorrência do evento que desejamos prever '\n",
        "resposta = 'linhas'\n",
        "\n",
        "tam = len(df)\n",
        "\n",
        "pie = pd.DataFrame([['Há ocorrência',n],['Não há ocorrência',e]],columns=['Target' , 'Quant'])\n",
        "\n",
        "def pie_chart(data,col1,col2,title): \n",
        "    labels = {'Não':0,'Sim':1}\n",
        "    sizes = data[col2]\n",
        "    colors = ['#e5ffcc', '#f80032']\n",
        "\n",
        "    plt.pie(sizes, labels=labels, colors=colors,\n",
        "                autopct='%1.1f%%', shadow=True, startangle=140, labeldistance =1.2)\n",
        "    plt.title( title )\n",
        "    \n",
        "    plt.axis('equal')\n",
        "    plt.show()\n",
        "\n",
        "pie_chart(pie,'Target' , 'Quant','Distribuição Percentual quanto a existência ou não de ocorrência')\n",
        "\n",
        "print(\"\\n\")\n",
        "print(\"{}{}{}\".format(condTrue,n,\" \"+ resposta))\n",
        "print(\"{}{}{}\".format(condFalse,e,\" \"+ resposta))\n",
        "print(\"\\n\")\n",
        "\n",
        "plt.bar(pie.Target,pie.Quant, color = ['#e5ffcc', '#f80032'])\n",
        "plt.title(\"Distribuição quanto a existência ou não de ocorrência\")\n",
        "plt.xlabel(\"Existe ocorrência?\")\n",
        "plt.ylabel('Quantidade de Registros')\n",
        "plt.show()"
      ],
      "metadata": {
        "id": "fybuiv8VaWG8",
        "colab": {
          "base_uri": "https://localhost:8080/",
          "height": 646
        },
        "outputId": "ae396c97-bfac-4388-96ba-2c1391d29cc7"
      },
      "execution_count": 185,
      "outputs": [
        {
          "output_type": "display_data",
          "data": {
            "text/plain": [
              "<Figure size 432x288 with 1 Axes>"
            ],
            "image/png": "[encoded data removed]"
          },
          "metadata": {}
        },
        {
          "output_type": "stream",
          "name": "stdout",
          "text": [
            "\n",
            "\n",
            "Não há ocorrência do evento que desejamos prever em 206 linhas\n",
            "Existe ocorrência do evento que desejamos prever 260 linhas\n",
            "\n",
            "\n"
          ]
        },
        {
          "output_type": "display_data",
          "data": {
            "text/plain": [
              "<Figure size 432x288 with 1 Axes>"
            ],
            "image/png": "[encoded data removed]"
          },
          "metadata": {
            "needs_background": "light"
          }
        }
      ]
    },
    {
      "cell_type": "markdown",
      "source": [
        "#### Seleção aleatória de 200 entradas do dataset"
      ],
      "metadata": {
        "id": "SrmNrfNDazgc"
      }
    },
    {
      "cell_type": "code",
      "source": [
        "df_sample = df.sample(n=200)\n",
        "df_sample['target'].value_counts().to_frame()\n",
        "#df_sample.info()"
      ],
      "metadata": {
        "colab": {
          "base_uri": "https://localhost:8080/",
          "height": 112
        },
        "id": "8g_JSi3yarTi",
        "outputId": "ba188ef5-2101-4483-8c65-40abf86f461d"
      },
      "execution_count": 186,
      "outputs": [
        {
          "output_type": "execute_result",
          "data": {
            "text/plain": [
              "   target\n",
              "1     111\n",
              "0      89"
            ],
            "text/html": [
              "\n",
              "  <div id=\"df-bc0790ba-538b-45e5-9bc0-191ad9c19653\">\n",
              "    <div class=\"colab-df-container\">\n",
              "      <div>\n",
              "<style scoped>\n",
              "    .dataframe tbody tr th:only-of-type {\n",
              "        vertical-align: middle;\n",
              "    }\n",
              "\n",
              "    .dataframe tbody tr th {\n",
              "        vertical-align: top;\n",
              "    }\n",
              "\n",
              "    .dataframe thead th {\n",
              "        text-align: right;\n",
              "    }\n",
              "</style>\n",
              "<table border=\"1\" class=\"dataframe\">\n",
              "  <thead>\n",
              "    <tr style=\"text-align: right;\">\n",
              "      <th></th>\n",
              "      <th>target</th>\n",
              "    </tr>\n",
              "  </thead>\n",
              "  <tbody>\n",
              "    <tr>\n",
              "      <th>1</th>\n",
              "      <td>111</td>\n",
              "    </tr>\n",
              "    <tr>\n",
              "      <th>0</th>\n",
              "      <td>89</td>\n",
              "    </tr>\n",
              "  </tbody>\n",
              "</table>\n",
              "</div>\n",
              "      <button class=\"colab-df-convert\" onclick=\"convertToInteractive('df-bc0790ba-538b-45e5-9bc0-191ad9c19653')\"\n",
              "              title=\"Convert this dataframe to an interactive table.\"\n",
              "              style=\"display:none;\">\n",
              "        \n",
              "  <svg xmlns=\"http://www.w3.org/2000/svg\" height=\"24px\"viewBox=\"0 0 24 24\"\n",
              "       width=\"24px\">\n",
              "    <path d=\"M0 0h24v24H0V0z\" fill=\"none\"/>\n",
              "    <path d=\"M18.56 5.44l.94 2.06.94-2.06 2.06-.94-2.06-.94-.94-2.06-.94 2.06-2.06.94zm-11 1L8.5 8.5l.94-2.06 2.06-.94-2.06-.94L8.5 2.5l-.94 2.06-2.06.94zm10 10l.94 2.06.94-2.06 2.06-.94-2.06-.94-.94-2.06-.94 2.06-2.06.94z\"/><path d=\"M17.41 7.96l-1.37-1.37c-.4-.4-.92-.59-1.43-.59-.52 0-1.04.2-1.43.59L10.3 9.45l-7.72 7.72c-.78.78-.78 2.05 0 2.83L4 21.41c.39.39.9.59 1.41.59.51 0 1.02-.2 1.41-.59l7.78-7.78 2.81-2.81c.8-.78.8-2.07 0-2.86zM5.41 20L4 18.59l7.72-7.72 1.47 1.35L5.41 20z\"/>\n",
              "  </svg>\n",
              "      </button>\n",
              "      \n",
              "  <style>\n",
              "    .colab-df-container {\n",
              "      display:flex;\n",
              "      flex-wrap:wrap;\n",
              "      gap: 12px;\n",
              "    }\n",
              "\n",
              "    .colab-df-convert {\n",
              "      background-color: #E8F0FE;\n",
              "      border: none;\n",
              "      border-radius: 50%;\n",
              "      cursor: pointer;\n",
              "      display: none;\n",
              "      fill: #1967D2;\n",
              "      height: 32px;\n",
              "      padding: 0 0 0 0;\n",
              "      width: 32px;\n",
              "    }\n",
              "\n",
              "    .colab-df-convert:hover {\n",
              "      background-color: #E2EBFA;\n",
              "      box-shadow: 0px 1px 2px rgba(60, 64, 67, 0.3), 0px 1px 3px 1px rgba(60, 64, 67, 0.15);\n",
              "      fill: #174EA6;\n",
              "    }\n",
              "\n",
              "    [theme=dark] .colab-df-convert {\n",
              "      background-color: #3B4455;\n",
              "      fill: #D2E3FC;\n",
              "    }\n",
              "\n",
              "    [theme=dark] .colab-df-convert:hover {\n",
              "      background-color: #434B5C;\n",
              "      box-shadow: 0px 1px 3px 1px rgba(0, 0, 0, 0.15);\n",
              "      filter: drop-shadow(0px 1px 2px rgba(0, 0, 0, 0.3));\n",
              "      fill: #FFFFFF;\n",
              "    }\n",
              "  </style>\n",
              "\n",
              "      <script>\n",
              "        const buttonEl =\n",
              "          document.querySelector('#df-bc0790ba-538b-45e5-9bc0-191ad9c19653 button.colab-df-convert');\n",
              "        buttonEl.style.display =\n",
              "          google.colab.kernel.accessAllowed ? 'block' : 'none';\n",
              "\n",
              "        async function convertToInteractive(key) {\n",
              "          const element = document.querySelector('#df-bc0790ba-538b-45e5-9bc0-191ad9c19653');\n",
              "          const dataTable =\n",
              "            await google.colab.kernel.invokeFunction('convertToInteractive',\n",
              "                                                     [key], {});\n",
              "          if (!dataTable) return;\n",
              "\n",
              "          const docLinkHtml = 'Like what you see? Visit the ' +\n",
              "            '<a target=\"_blank\" href=https://colab.research.google.com/notebooks/data_table.ipynb>data table notebook</a>'\n",
              "            + ' to learn more about interactive tables.';\n",
              "          element.innerHTML = '';\n",
              "          dataTable['output_type'] = 'display_data';\n",
              "          await google.colab.output.renderOutput(dataTable, element);\n",
              "          const docLink = document.createElement('div');\n",
              "          docLink.innerHTML = docLinkHtml;\n",
              "          element.appendChild(docLink);\n",
              "        }\n",
              "      </script>\n",
              "    </div>\n",
              "  </div>\n",
              "  "
            ]
          },
          "metadata": {},
          "execution_count": 186
        }
      ]
    },
    {
      "cell_type": "markdown",
      "source": [
        "#### Gerando um gráfico de pizza e de barras com 200 entradas aleatórias do dataset\n",
        "\n",
        "\n"
      ],
      "metadata": {
        "id": "MP3kkBfAbV3M"
      }
    },
    {
      "cell_type": "code",
      "source": [
        "#Distribuição dos dados da classe Y (Não existe ocorrência = n, Existe ocorrência = e)\n",
        "\n",
        "n = pd.value_counts(df_sample['target']) [0]\n",
        "e = pd.value_counts(df_sample['target']) [1]\n",
        "\n",
        "condTrue = 'Não há ocorrência do evento que desejamos prever em '\n",
        "condFalse = 'Existe ocorrência do evento que desejamos prever '\n",
        "resposta = 'linhas'\n",
        "\n",
        "tam = len(df_sample)\n",
        "\n",
        "pie = pd.DataFrame([['Há ocorrência',n],['Não há ocorrência',e]],columns=['Target' , 'Quant'])\n",
        "\n",
        "def pie_chart(data,col1,col2,title): \n",
        "    labels = {'Não':0,'Sim':1}\n",
        "    sizes = data[col2]\n",
        "    colors = ['#e5ffcc', '#f80032']\n",
        "\n",
        "    plt.pie(sizes, labels=labels, colors=colors,\n",
        "                autopct='%1.1f%%', shadow=True, startangle=140, labeldistance =1.2)\n",
        "    plt.title( title )\n",
        "    \n",
        "    plt.axis('equal')\n",
        "    plt.show()\n",
        "\n",
        "pie_chart(pie,'Target' , 'Quant','Distribuição Percentual quanto a existência ou não de ocorrência')\n",
        "\n",
        "print(\"\\n\")\n",
        "print(\"{}{}{}\".format(condTrue,n,\" \"+ resposta))\n",
        "print(\"{}{}{}\".format(condFalse,e,\" \"+ resposta))\n",
        "print(\"\\n\")\n",
        "\n",
        "plt.bar(pie.Target,pie.Quant, color = ['#e5ffcc', '#f80032'])\n",
        "plt.title(\"Distribuição quanto a existência ou não de ocorrência\")\n",
        "plt.xlabel(\"Existe ocorrência?\")\n",
        "plt.ylabel('Quantidade de Registros')\n",
        "plt.show()"
      ],
      "metadata": {
        "colab": {
          "base_uri": "https://localhost:8080/",
          "height": 646
        },
        "id": "igZO25rpMNSD",
        "outputId": "6ff03bd3-2dfe-4bce-83dc-3bcf5236f122"
      },
      "execution_count": 187,
      "outputs": [
        {
          "output_type": "display_data",
          "data": {
            "text/plain": [
              "<Figure size 432x288 with 1 Axes>"
            ],
            "image/png": "[encoded data removed]"
          },
          "metadata": {}
        },
        {
          "output_type": "stream",
          "name": "stdout",
          "text": [
            "\n",
            "\n",
            "Não há ocorrência do evento que desejamos prever em 89 linhas\n",
            "Existe ocorrência do evento que desejamos prever 111 linhas\n",
            "\n",
            "\n"
          ]
        },
        {
          "output_type": "display_data",
          "data": {
            "text/plain": [
              "<Figure size 432x288 with 1 Axes>"
            ],
            "image/png": "[encoded data removed]"
          },
          "metadata": {
            "needs_background": "light"
          }
        }
      ]
    },
    {
      "cell_type": "markdown",
      "source": [
        "#### Seleção aleatória de cinquenta por cento das entradas do dataset"
      ],
      "metadata": {
        "id": "KWMT0EpBcB9D"
      }
    },
    {
      "cell_type": "code",
      "source": [
        "df_sample = df.sample(frac=0.5)\n",
        "df_sample['target'].value_counts().to_frame()\n"
      ],
      "metadata": {
        "colab": {
          "base_uri": "https://localhost:8080/",
          "height": 112
        },
        "id": "_48NzttVMNVy",
        "outputId": "ca464276-e89d-4e16-da67-554569d1d3d7"
      },
      "execution_count": 188,
      "outputs": [
        {
          "output_type": "execute_result",
          "data": {
            "text/plain": [
              "   target\n",
              "1     123\n",
              "0     110"
            ],
            "text/html": [
              "\n",
              "  <div id=\"df-c44305f9-1a54-4fbb-935a-e9e3d67f62d7\">\n",
              "    <div class=\"colab-df-container\">\n",
              "      <div>\n",
              "<style scoped>\n",
              "    .dataframe tbody tr th:only-of-type {\n",
              "        vertical-align: middle;\n",
              "    }\n",
              "\n",
              "    .dataframe tbody tr th {\n",
              "        vertical-align: top;\n",
              "    }\n",
              "\n",
              "    .dataframe thead th {\n",
              "        text-align: right;\n",
              "    }\n",
              "</style>\n",
              "<table border=\"1\" class=\"dataframe\">\n",
              "  <thead>\n",
              "    <tr style=\"text-align: right;\">\n",
              "      <th></th>\n",
              "      <th>target</th>\n",
              "    </tr>\n",
              "  </thead>\n",
              "  <tbody>\n",
              "    <tr>\n",
              "      <th>1</th>\n",
              "      <td>123</td>\n",
              "    </tr>\n",
              "    <tr>\n",
              "      <th>0</th>\n",
              "      <td>110</td>\n",
              "    </tr>\n",
              "  </tbody>\n",
              "</table>\n",
              "</div>\n",
              "      <button class=\"colab-df-convert\" onclick=\"convertToInteractive('df-c44305f9-1a54-4fbb-935a-e9e3d67f62d7')\"\n",
              "              title=\"Convert this dataframe to an interactive table.\"\n",
              "              style=\"display:none;\">\n",
              "        \n",
              "  <svg xmlns=\"http://www.w3.org/2000/svg\" height=\"24px\"viewBox=\"0 0 24 24\"\n",
              "       width=\"24px\">\n",
              "    <path d=\"M0 0h24v24H0V0z\" fill=\"none\"/>\n",
              "    <path d=\"M18.56 5.44l.94 2.06.94-2.06 2.06-.94-2.06-.94-.94-2.06-.94 2.06-2.06.94zm-11 1L8.5 8.5l.94-2.06 2.06-.94-2.06-.94L8.5 2.5l-.94 2.06-2.06.94zm10 10l.94 2.06.94-2.06 2.06-.94-2.06-.94-.94-2.06-.94 2.06-2.06.94z\"/><path d=\"M17.41 7.96l-1.37-1.37c-.4-.4-.92-.59-1.43-.59-.52 0-1.04.2-1.43.59L10.3 9.45l-7.72 7.72c-.78.78-.78 2.05 0 2.83L4 21.41c.39.39.9.59 1.41.59.51 0 1.02-.2 1.41-.59l7.78-7.78 2.81-2.81c.8-.78.8-2.07 0-2.86zM5.41 20L4 18.59l7.72-7.72 1.47 1.35L5.41 20z\"/>\n",
              "  </svg>\n",
              "      </button>\n",
              "      \n",
              "  <style>\n",
              "    .colab-df-container {\n",
              "      display:flex;\n",
              "      flex-wrap:wrap;\n",
              "      gap: 12px;\n",
              "    }\n",
              "\n",
              "    .colab-df-convert {\n",
              "      background-color: #E8F0FE;\n",
              "      border: none;\n",
              "      border-radius: 50%;\n",
              "      cursor: pointer;\n",
              "      display: none;\n",
              "      fill: #1967D2;\n",
              "      height: 32px;\n",
              "      padding: 0 0 0 0;\n",
              "      width: 32px;\n",
              "    }\n",
              "\n",
              "    .colab-df-convert:hover {\n",
              "      background-color: #E2EBFA;\n",
              "      box-shadow: 0px 1px 2px rgba(60, 64, 67, 0.3), 0px 1px 3px 1px rgba(60, 64, 67, 0.15);\n",
              "      fill: #174EA6;\n",
              "    }\n",
              "\n",
              "    [theme=dark] .colab-df-convert {\n",
              "      background-color: #3B4455;\n",
              "      fill: #D2E3FC;\n",
              "    }\n",
              "\n",
              "    [theme=dark] .colab-df-convert:hover {\n",
              "      background-color: #434B5C;\n",
              "      box-shadow: 0px 1px 3px 1px rgba(0, 0, 0, 0.15);\n",
              "      filter: drop-shadow(0px 1px 2px rgba(0, 0, 0, 0.3));\n",
              "      fill: #FFFFFF;\n",
              "    }\n",
              "  </style>\n",
              "\n",
              "      <script>\n",
              "        const buttonEl =\n",
              "          document.querySelector('#df-c44305f9-1a54-4fbb-935a-e9e3d67f62d7 button.colab-df-convert');\n",
              "        buttonEl.style.display =\n",
              "          google.colab.kernel.accessAllowed ? 'block' : 'none';\n",
              "\n",
              "        async function convertToInteractive(key) {\n",
              "          const element = document.querySelector('#df-c44305f9-1a54-4fbb-935a-e9e3d67f62d7');\n",
              "          const dataTable =\n",
              "            await google.colab.kernel.invokeFunction('convertToInteractive',\n",
              "                                                     [key], {});\n",
              "          if (!dataTable) return;\n",
              "\n",
              "          const docLinkHtml = 'Like what you see? Visit the ' +\n",
              "            '<a target=\"_blank\" href=https://colab.research.google.com/notebooks/data_table.ipynb>data table notebook</a>'\n",
              "            + ' to learn more about interactive tables.';\n",
              "          element.innerHTML = '';\n",
              "          dataTable['output_type'] = 'display_data';\n",
              "          await google.colab.output.renderOutput(dataTable, element);\n",
              "          const docLink = document.createElement('div');\n",
              "          docLink.innerHTML = docLinkHtml;\n",
              "          element.appendChild(docLink);\n",
              "        }\n",
              "      </script>\n",
              "    </div>\n",
              "  </div>\n",
              "  "
            ]
          },
          "metadata": {},
          "execution_count": 188
        }
      ]
    },
    {
      "cell_type": "markdown",
      "source": [
        "#### Gerando um gráfico de pizza e de barras com cinquenta por cento das entradas do dataset"
      ],
      "metadata": {
        "id": "tFoc7bFtb4-D"
      }
    },
    {
      "cell_type": "code",
      "source": [
        "#Distribuição dos dados da classe Y (Não existe ocorrência = n, Existe ocorrência = e)\n",
        "\n",
        "n = pd.value_counts(df_sample['target']) [0]\n",
        "e = pd.value_counts(df_sample['target']) [1]\n",
        "\n",
        "condTrue = 'Não há ocorrência do evento que desejamos prever em '\n",
        "condFalse = 'Existe ocorrência do evento que desejamos prever '\n",
        "resposta = 'linhas'\n",
        "\n",
        "tam = len(df_sample)\n",
        "\n",
        "\n",
        "pie_chart(pie,'Target' , 'Quant','Distribuição Percentual quanto a existência ou não de ocorrência')\n",
        "\n",
        "def pie_chart(data,col1,col2,title): \n",
        "    labels = {'Não':0,'Sim':1}\n",
        "    sizes = data[col2]\n",
        "    colors = ['#e5ffcc', '#f80032']\n",
        "\n",
        "    plt.pie(sizes, labels=labels, colors=colors,\n",
        "                autopct='%1.1f%%', shadow=True, startangle=140, labeldistance =1.2)\n",
        "    plt.title( title )\n",
        "    \n",
        "    plt.axis('equal')\n",
        "    plt.show()\n",
        "\n",
        "print(\"\\n\")\n",
        "print(\"{}{}{}\".format(condTrue,n,\" \"+ resposta))\n",
        "print(\"{}{}{}\".format(condFalse,e,\" \"+ resposta))\n",
        "print(\"\\n\")\n",
        "pie = pd.DataFrame([['Há ocorrência',n],['Não há ocorrência',e]],columns=['Target' , 'Quant'])\n",
        "\n",
        "plt.bar(pie.Target,pie.Quant, color = ['#e5ffcc', '#f80032'])\n",
        "plt.title(\"Distribuição quanto a existência ou não de ocorrência\")\n",
        "plt.xlabel(\"Existe ocorrência?\")\n",
        "plt.ylabel('Quantidade de Registros')\n",
        "plt.show()"
      ],
      "metadata": {
        "colab": {
          "base_uri": "https://localhost:8080/",
          "height": 646
        },
        "id": "5u8kHvlPMNYN",
        "outputId": "977daae6-b03c-4dca-99ed-6111a23ead13"
      },
      "execution_count": 189,
      "outputs": [
        {
          "output_type": "display_data",
          "data": {
            "text/plain": [
              "<Figure size 432x288 with 1 Axes>"
            ],
            "image/png": "[encoded data removed]"
          },
          "metadata": {}
        },
        {
          "output_type": "stream",
          "name": "stdout",
          "text": [
            "\n",
            "\n",
            "Não há ocorrência do evento que desejamos prever em 110 linhas\n",
            "Existe ocorrência do evento que desejamos prever 123 linhas\n",
            "\n",
            "\n"
          ]
        },
        {
          "output_type": "display_data",
          "data": {
            "text/plain": [
              "<Figure size 432x288 with 1 Axes>"
            ],
            "image/png": "[encoded data removed]"
          },
          "metadata": {
            "needs_background": "light"
          }
        }
      ]
    },
    {
      "cell_type": "markdown",
      "source": [
        "#### Utilizada a função train_test_split() do scikit-learn para dividir entre treino e teste\n",
        "\n"
      ],
      "metadata": {
        "id": "eMuRx8WNdJgM"
      }
    },
    {
      "cell_type": "code",
      "source": [
        "X_train, X_test, y_train, y_test = train_test_split(df.drop('target',axis=1),\n",
        "                                                    df['target'],\n",
        "                                                    stratify=df['target'],\n",
        "                                                    test_size=0.5)"
      ],
      "metadata": {
        "id": "EIGzzcowdIUD"
      },
      "execution_count": 190,
      "outputs": []
    },
    {
      "cell_type": "markdown",
      "source": [
        "#### Seleção aleatória de cinquenta por cento das entradas do dataset"
      ],
      "metadata": {
        "id": "8xPA7raQc7n0"
      }
    },
    {
      "cell_type": "code",
      "source": [
        "df_y = pd.DataFrame(y_test)\n",
        "y_test.value_counts().to_frame()\n"
      ],
      "metadata": {
        "colab": {
          "base_uri": "https://localhost:8080/",
          "height": 112
        },
        "id": "WRHbF2CKN0AU",
        "outputId": "5c52d66b-2f4d-4ce5-9b8e-fb8c309e0b36"
      },
      "execution_count": 191,
      "outputs": [
        {
          "output_type": "execute_result",
          "data": {
            "text/plain": [
              "   target\n",
              "1     130\n",
              "0     103"
            ],
            "text/html": [
              "\n",
              "  <div id=\"df-057a2fbc-972c-4ccf-bd9b-8ac172d7a3e8\">\n",
              "    <div class=\"colab-df-container\">\n",
              "      <div>\n",
              "<style scoped>\n",
              "    .dataframe tbody tr th:only-of-type {\n",
              "        vertical-align: middle;\n",
              "    }\n",
              "\n",
              "    .dataframe tbody tr th {\n",
              "        vertical-align: top;\n",
              "    }\n",
              "\n",
              "    .dataframe thead th {\n",
              "        text-align: right;\n",
              "    }\n",
              "</style>\n",
              "<table border=\"1\" class=\"dataframe\">\n",
              "  <thead>\n",
              "    <tr style=\"text-align: right;\">\n",
              "      <th></th>\n",
              "      <th>target</th>\n",
              "    </tr>\n",
              "  </thead>\n",
              "  <tbody>\n",
              "    <tr>\n",
              "      <th>1</th>\n",
              "      <td>130</td>\n",
              "    </tr>\n",
              "    <tr>\n",
              "      <th>0</th>\n",
              "      <td>103</td>\n",
              "    </tr>\n",
              "  </tbody>\n",
              "</table>\n",
              "</div>\n",
              "      <button class=\"colab-df-convert\" onclick=\"convertToInteractive('df-057a2fbc-972c-4ccf-bd9b-8ac172d7a3e8')\"\n",
              "              title=\"Convert this dataframe to an interactive table.\"\n",
              "              style=\"display:none;\">\n",
              "        \n",
              "  <svg xmlns=\"http://www.w3.org/2000/svg\" height=\"24px\"viewBox=\"0 0 24 24\"\n",
              "       width=\"24px\">\n",
              "    <path d=\"M0 0h24v24H0V0z\" fill=\"none\"/>\n",
              "    <path d=\"M18.56 5.44l.94 2.06.94-2.06 2.06-.94-2.06-.94-.94-2.06-.94 2.06-2.06.94zm-11 1L8.5 8.5l.94-2.06 2.06-.94-2.06-.94L8.5 2.5l-.94 2.06-2.06.94zm10 10l.94 2.06.94-2.06 2.06-.94-2.06-.94-.94-2.06-.94 2.06-2.06.94z\"/><path d=\"M17.41 7.96l-1.37-1.37c-.4-.4-.92-.59-1.43-.59-.52 0-1.04.2-1.43.59L10.3 9.45l-7.72 7.72c-.78.78-.78 2.05 0 2.83L4 21.41c.39.39.9.59 1.41.59.51 0 1.02-.2 1.41-.59l7.78-7.78 2.81-2.81c.8-.78.8-2.07 0-2.86zM5.41 20L4 18.59l7.72-7.72 1.47 1.35L5.41 20z\"/>\n",
              "  </svg>\n",
              "      </button>\n",
              "      \n",
              "  <style>\n",
              "    .colab-df-container {\n",
              "      display:flex;\n",
              "      flex-wrap:wrap;\n",
              "      gap: 12px;\n",
              "    }\n",
              "\n",
              "    .colab-df-convert {\n",
              "      background-color: #E8F0FE;\n",
              "      border: none;\n",
              "      border-radius: 50%;\n",
              "      cursor: pointer;\n",
              "      display: none;\n",
              "      fill: #1967D2;\n",
              "      height: 32px;\n",
              "      padding: 0 0 0 0;\n",
              "      width: 32px;\n",
              "    }\n",
              "\n",
              "    .colab-df-convert:hover {\n",
              "      background-color: #E2EBFA;\n",
              "      box-shadow: 0px 1px 2px rgba(60, 64, 67, 0.3), 0px 1px 3px 1px rgba(60, 64, 67, 0.15);\n",
              "      fill: #174EA6;\n",
              "    }\n",
              "\n",
              "    [theme=dark] .colab-df-convert {\n",
              "      background-color: #3B4455;\n",
              "      fill: #D2E3FC;\n",
              "    }\n",
              "\n",
              "    [theme=dark] .colab-df-convert:hover {\n",
              "      background-color: #434B5C;\n",
              "      box-shadow: 0px 1px 3px 1px rgba(0, 0, 0, 0.15);\n",
              "      filter: drop-shadow(0px 1px 2px rgba(0, 0, 0, 0.3));\n",
              "      fill: #FFFFFF;\n",
              "    }\n",
              "  </style>\n",
              "\n",
              "      <script>\n",
              "        const buttonEl =\n",
              "          document.querySelector('#df-057a2fbc-972c-4ccf-bd9b-8ac172d7a3e8 button.colab-df-convert');\n",
              "        buttonEl.style.display =\n",
              "          google.colab.kernel.accessAllowed ? 'block' : 'none';\n",
              "\n",
              "        async function convertToInteractive(key) {\n",
              "          const element = document.querySelector('#df-057a2fbc-972c-4ccf-bd9b-8ac172d7a3e8');\n",
              "          const dataTable =\n",
              "            await google.colab.kernel.invokeFunction('convertToInteractive',\n",
              "                                                     [key], {});\n",
              "          if (!dataTable) return;\n",
              "\n",
              "          const docLinkHtml = 'Like what you see? Visit the ' +\n",
              "            '<a target=\"_blank\" href=https://colab.research.google.com/notebooks/data_table.ipynb>data table notebook</a>'\n",
              "            + ' to learn more about interactive tables.';\n",
              "          element.innerHTML = '';\n",
              "          dataTable['output_type'] = 'display_data';\n",
              "          await google.colab.output.renderOutput(dataTable, element);\n",
              "          const docLink = document.createElement('div');\n",
              "          docLink.innerHTML = docLinkHtml;\n",
              "          element.appendChild(docLink);\n",
              "        }\n",
              "      </script>\n",
              "    </div>\n",
              "  </div>\n",
              "  "
            ]
          },
          "metadata": {},
          "execution_count": 191
        }
      ]
    },
    {
      "cell_type": "markdown",
      "source": [
        "#### Gerando um gráfico de pizza e de barras com cinquenta por cento das entradas do dataset"
      ],
      "metadata": {
        "id": "AsKb4U8tcxaA"
      }
    },
    {
      "cell_type": "code",
      "source": [
        "#Distribuição dos dados da classe Y (Não existe ocorrência = n, Existe ocorrência = e)\n",
        "\n",
        "n = pd.value_counts(df_y['target']) [0]\n",
        "e = pd.value_counts(df_y['target']) [1]\n",
        "\n",
        "condTrue = 'Não há ocorrência do evento que desejamos prever em '\n",
        "condFalse = 'Existe ocorrência do evento que desejamos prever '\n",
        "resposta = 'linhas'\n",
        "\n",
        "tam = len(df_y)\n",
        "\n",
        "\n",
        "pie_chart(pie,'Target' , 'Quant','Distribuição Percentual quanto a existência ou não de ocorrência')\n",
        "\n",
        "def pie_chart(data,col1,col2,title): \n",
        "    labels = {'Não':0,'Sim':1}\n",
        "    sizes = data[col2]\n",
        "    colors = ['#e5ffcc', '#f80032']\n",
        "\n",
        "    plt.pie(sizes, labels=labels, colors=colors,\n",
        "                autopct='%1.1f%%', shadow=True, startangle=140, labeldistance =1.2)\n",
        "    plt.title( title )\n",
        "    \n",
        "    plt.axis('equal')\n",
        "    plt.show()\n",
        "\n",
        "print(\"\\n\")\n",
        "print(\"{}{}{}\".format(condTrue,n,\" \"+ resposta))\n",
        "print(\"{}{}{}\".format(condFalse,e,\" \"+ resposta))\n",
        "print(\"\\n\")\n",
        "pie = pd.DataFrame([['Há ocorrência',n],['Não há ocorrência',e]],columns=['Target' , 'Quant'])\n",
        "\n",
        "plt.bar(pie.Target,pie.Quant, color = ['#e5ffcc', '#f80032'])\n",
        "plt.title(\"Distribuição quanto a existência ou não de ocorrência\")\n",
        "plt.xlabel(\"Existe ocorrência?\")\n",
        "plt.ylabel('Quantidade de Registros')\n",
        "plt.show()"
      ],
      "metadata": {
        "colab": {
          "base_uri": "https://localhost:8080/",
          "height": 646
        },
        "id": "AOywGxUBN0Dq",
        "outputId": "c7a16684-6700-4bb9-e12e-a7e9dcf119bc"
      },
      "execution_count": 192,
      "outputs": [
        {
          "output_type": "display_data",
          "data": {
            "text/plain": [
              "<Figure size 432x288 with 1 Axes>"
            ],
            "image/png": "[encoded data removed]"
          },
          "metadata": {}
        },
        {
          "output_type": "stream",
          "name": "stdout",
          "text": [
            "\n",
            "\n",
            "Não há ocorrência do evento que desejamos prever em 103 linhas\n",
            "Existe ocorrência do evento que desejamos prever 130 linhas\n",
            "\n",
            "\n"
          ]
        },
        {
          "output_type": "display_data",
          "data": {
            "text/plain": [
              "<Figure size 432x288 with 1 Axes>"
            ],
            "image/png": "[encoded data removed]"
          },
          "metadata": {
            "needs_background": "light"
          }
        }
      ]
    },
    {
      "cell_type": "code",
      "source": [
        "#!pwd"
      ],
      "metadata": {
        "id": "i4TwmhXBN0GS"
      },
      "execution_count": 193,
      "outputs": []
    }
  ]
}